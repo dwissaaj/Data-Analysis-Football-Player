{
 "cells": [
  {
   "cell_type": "code",
   "execution_count": 1,
   "metadata": {
    "_cell_guid": "b1076dfc-b9ad-4769-8c92-a6c4dae69d19",
    "_uuid": "8f2839f25d086af736a60e9eeb907d3b93b6e0e5",
    "execution": {
     "iopub.execute_input": "2020-12-08T04:18:23.716618Z",
     "iopub.status.busy": "2020-12-08T04:18:23.715660Z",
     "iopub.status.idle": "2020-12-08T04:18:23.718078Z",
     "shell.execute_reply": "2020-12-08T04:18:23.718662Z"
    },
    "papermill": {
     "duration": 0.028303,
     "end_time": "2020-12-08T04:18:23.718856",
     "exception": false,
     "start_time": "2020-12-08T04:18:23.690553",
     "status": "completed"
    },
    "tags": []
   },
   "outputs": [],
   "source": [
    "import numpy as np\n",
    "import pandas as pd\n",
    "import matplotlib.pyplot as plt\n"
   ]
  },
  {
   "cell_type": "code",
   "execution_count": 2,
   "metadata": {
    "_cell_guid": "79c7e3d0-c299-4dcb-8224-4455121ee9b0",
    "_uuid": "d629ff2d2480ee46fbb7e2d37f6b5fab8052498a",
    "execution": {
     "iopub.execute_input": "2020-12-08T04:18:23.763559Z",
     "iopub.status.busy": "2020-12-08T04:18:23.762823Z",
     "iopub.status.idle": "2020-12-08T04:18:23.802597Z",
     "shell.execute_reply": "2020-12-08T04:18:23.803194Z"
    },
    "papermill": {
     "duration": 0.067785,
     "end_time": "2020-12-08T04:18:23.803344",
     "exception": false,
     "start_time": "2020-12-08T04:18:23.735559",
     "status": "completed"
    },
    "tags": []
   },
   "outputs": [
    {
     "data": {
      "text/html": [
       "<div>\n",
       "<style scoped>\n",
       "    .dataframe tbody tr th:only-of-type {\n",
       "        vertical-align: middle;\n",
       "    }\n",
       "\n",
       "    .dataframe tbody tr th {\n",
       "        vertical-align: top;\n",
       "    }\n",
       "\n",
       "    .dataframe thead th {\n",
       "        text-align: right;\n",
       "    }\n",
       "</style>\n",
       "<table border=\"1\" class=\"dataframe\">\n",
       "  <thead>\n",
       "    <tr style=\"text-align: right;\">\n",
       "      <th></th>\n",
       "      <th>Country</th>\n",
       "      <th>League</th>\n",
       "      <th>Club</th>\n",
       "      <th>Player Names</th>\n",
       "      <th>Matches_Played</th>\n",
       "      <th>Substitution</th>\n",
       "      <th>Mins</th>\n",
       "      <th>Goals</th>\n",
       "      <th>xG</th>\n",
       "      <th>xG Per Avg Match</th>\n",
       "      <th>Shots</th>\n",
       "      <th>OnTarget</th>\n",
       "      <th>Shots Per Avg Match</th>\n",
       "      <th>On Target Per Avg Match</th>\n",
       "      <th>Year</th>\n",
       "    </tr>\n",
       "  </thead>\n",
       "  <tbody>\n",
       "    <tr>\n",
       "      <th>0</th>\n",
       "      <td>Spain</td>\n",
       "      <td>La Liga</td>\n",
       "      <td>(BET)</td>\n",
       "      <td>Juanmi Callejon</td>\n",
       "      <td>19</td>\n",
       "      <td>16</td>\n",
       "      <td>1849</td>\n",
       "      <td>11</td>\n",
       "      <td>6.62</td>\n",
       "      <td>0.34</td>\n",
       "      <td>48</td>\n",
       "      <td>20</td>\n",
       "      <td>2.47</td>\n",
       "      <td>1.03</td>\n",
       "      <td>2016</td>\n",
       "    </tr>\n",
       "    <tr>\n",
       "      <th>1</th>\n",
       "      <td>Spain</td>\n",
       "      <td>La Liga</td>\n",
       "      <td>(BAR)</td>\n",
       "      <td>Antoine Griezmann</td>\n",
       "      <td>36</td>\n",
       "      <td>0</td>\n",
       "      <td>3129</td>\n",
       "      <td>16</td>\n",
       "      <td>11.86</td>\n",
       "      <td>0.36</td>\n",
       "      <td>88</td>\n",
       "      <td>41</td>\n",
       "      <td>2.67</td>\n",
       "      <td>1.24</td>\n",
       "      <td>2016</td>\n",
       "    </tr>\n",
       "    <tr>\n",
       "      <th>2</th>\n",
       "      <td>Spain</td>\n",
       "      <td>La Liga</td>\n",
       "      <td>(ATL)</td>\n",
       "      <td>Luis Suarez</td>\n",
       "      <td>34</td>\n",
       "      <td>1</td>\n",
       "      <td>2940</td>\n",
       "      <td>28</td>\n",
       "      <td>23.21</td>\n",
       "      <td>0.75</td>\n",
       "      <td>120</td>\n",
       "      <td>57</td>\n",
       "      <td>3.88</td>\n",
       "      <td>1.84</td>\n",
       "      <td>2016</td>\n",
       "    </tr>\n",
       "    <tr>\n",
       "      <th>3</th>\n",
       "      <td>Spain</td>\n",
       "      <td>La Liga</td>\n",
       "      <td>(CAR)</td>\n",
       "      <td>Ruben Castro</td>\n",
       "      <td>32</td>\n",
       "      <td>3</td>\n",
       "      <td>2842</td>\n",
       "      <td>13</td>\n",
       "      <td>14.06</td>\n",
       "      <td>0.47</td>\n",
       "      <td>117</td>\n",
       "      <td>42</td>\n",
       "      <td>3.91</td>\n",
       "      <td>1.40</td>\n",
       "      <td>2016</td>\n",
       "    </tr>\n",
       "    <tr>\n",
       "      <th>4</th>\n",
       "      <td>Spain</td>\n",
       "      <td>La Liga</td>\n",
       "      <td>(VAL)</td>\n",
       "      <td>Kevin Gameiro</td>\n",
       "      <td>21</td>\n",
       "      <td>10</td>\n",
       "      <td>1745</td>\n",
       "      <td>13</td>\n",
       "      <td>10.65</td>\n",
       "      <td>0.58</td>\n",
       "      <td>50</td>\n",
       "      <td>23</td>\n",
       "      <td>2.72</td>\n",
       "      <td>1.25</td>\n",
       "      <td>2016</td>\n",
       "    </tr>\n",
       "  </tbody>\n",
       "</table>\n",
       "</div>"
      ],
      "text/plain": [
       "  Country   League   Club       Player Names  Matches_Played  Substitution   \\\n",
       "0   Spain  La Liga  (BET)    Juanmi Callejon              19             16   \n",
       "1   Spain  La Liga  (BAR)  Antoine Griezmann              36              0   \n",
       "2   Spain  La Liga  (ATL)        Luis Suarez              34              1   \n",
       "3   Spain  La Liga  (CAR)       Ruben Castro              32              3   \n",
       "4   Spain  La Liga  (VAL)      Kevin Gameiro              21             10   \n",
       "\n",
       "   Mins  Goals     xG  xG Per Avg Match  Shots  OnTarget  Shots Per Avg Match  \\\n",
       "0  1849     11   6.62              0.34     48        20                 2.47   \n",
       "1  3129     16  11.86              0.36     88        41                 2.67   \n",
       "2  2940     28  23.21              0.75    120        57                 3.88   \n",
       "3  2842     13  14.06              0.47    117        42                 3.91   \n",
       "4  1745     13  10.65              0.58     50        23                 2.72   \n",
       "\n",
       "   On Target Per Avg Match  Year  \n",
       "0                     1.03  2016  \n",
       "1                     1.24  2016  \n",
       "2                     1.84  2016  \n",
       "3                     1.40  2016  \n",
       "4                     1.25  2016  "
      ]
     },
     "execution_count": 2,
     "metadata": {},
     "output_type": "execute_result"
    }
   ],
   "source": [
    "df = pd.read_csv('/kaggle/input/top-football-leagues-scorers/Data.csv')\n",
    "df.head()"
   ]
  },
  {
   "cell_type": "markdown",
   "metadata": {
    "papermill": {
     "duration": 0.017206,
     "end_time": "2020-12-08T04:18:23.838011",
     "exception": false,
     "start_time": "2020-12-08T04:18:23.820805",
     "status": "completed"
    },
    "tags": []
   },
   "source": [
    "We only looking at this year data"
   ]
  },
  {
   "cell_type": "code",
   "execution_count": 3,
   "metadata": {
    "execution": {
     "iopub.execute_input": "2020-12-08T04:18:23.877990Z",
     "iopub.status.busy": "2020-12-08T04:18:23.877219Z",
     "iopub.status.idle": "2020-12-08T04:18:23.900296Z",
     "shell.execute_reply": "2020-12-08T04:18:23.899494Z"
    },
    "papermill": {
     "duration": 0.045305,
     "end_time": "2020-12-08T04:18:23.900425",
     "exception": false,
     "start_time": "2020-12-08T04:18:23.855120",
     "status": "completed"
    },
    "tags": []
   },
   "outputs": [],
   "source": [
    "groupby_country_2020 = df.loc[df['Year'] == 2020]"
   ]
  },
  {
   "cell_type": "markdown",
   "metadata": {
    "papermill": {
     "duration": 0.016923,
     "end_time": "2020-12-08T04:18:23.934594",
     "exception": false,
     "start_time": "2020-12-08T04:18:23.917671",
     "status": "completed"
    },
    "tags": []
   },
   "source": [
    "Sum all matched played in 2020 by country"
   ]
  },
  {
   "cell_type": "code",
   "execution_count": 4,
   "metadata": {
    "execution": {
     "iopub.execute_input": "2020-12-08T04:18:23.978724Z",
     "iopub.status.busy": "2020-12-08T04:18:23.977658Z",
     "iopub.status.idle": "2020-12-08T04:18:23.981161Z",
     "shell.execute_reply": "2020-12-08T04:18:23.980369Z"
    },
    "papermill": {
     "duration": 0.029365,
     "end_time": "2020-12-08T04:18:23.981285",
     "exception": false,
     "start_time": "2020-12-08T04:18:23.951920",
     "status": "completed"
    },
    "tags": []
   },
   "outputs": [],
   "source": [
    "total_match_2020 = groupby_country_2020.groupby('Country')['Matches_Played'].sum()"
   ]
  },
  {
   "cell_type": "code",
   "execution_count": 5,
   "metadata": {
    "execution": {
     "iopub.execute_input": "2020-12-08T04:18:24.023393Z",
     "iopub.status.busy": "2020-12-08T04:18:24.022625Z",
     "iopub.status.idle": "2020-12-08T04:18:24.154306Z",
     "shell.execute_reply": "2020-12-08T04:18:24.154926Z"
    },
    "papermill": {
     "duration": 0.155692,
     "end_time": "2020-12-08T04:18:24.155080",
     "exception": false,
     "start_time": "2020-12-08T04:18:23.999388",
     "status": "completed"
    },
    "tags": []
   },
   "outputs": [
    {
     "data": {
      "image/png": "[encoded data removed]",
      "text/plain": [
       "<Figure size 432x288 with 1 Axes>"
      ]
     },
     "metadata": {},
     "output_type": "display_data"
    }
   ],
   "source": [
    "label = list(total_match_2020.index.values)\n",
    "plt.pie(total_match_2020,labels=label,autopct='%1.1f%%')\n",
    "plt.title(\"Total Played Match\")\n",
    "plt.show()"
   ]
  },
  {
   "cell_type": "markdown",
   "metadata": {
    "papermill": {
     "duration": 0.018374,
     "end_time": "2020-12-08T04:18:24.192143",
     "exception": false,
     "start_time": "2020-12-08T04:18:24.173769",
     "status": "completed"
    },
    "tags": []
   },
   "source": [
    "In here i wanna to know if there is correlation between Shots and Goals in all country match"
   ]
  },
  {
   "cell_type": "code",
   "execution_count": 6,
   "metadata": {
    "execution": {
     "iopub.execute_input": "2020-12-08T04:18:24.239729Z",
     "iopub.status.busy": "2020-12-08T04:18:24.238631Z",
     "iopub.status.idle": "2020-12-08T04:18:24.243267Z",
     "shell.execute_reply": "2020-12-08T04:18:24.242520Z"
    },
    "papermill": {
     "duration": 0.03259,
     "end_time": "2020-12-08T04:18:24.243389",
     "exception": false,
     "start_time": "2020-12-08T04:18:24.210799",
     "status": "completed"
    },
    "tags": []
   },
   "outputs": [
    {
     "data": {
      "text/plain": [
       "Country\n",
       "Spain            84\n",
       "France          103\n",
       "Italy           105\n",
       "Germany         107\n",
       "England         117\n",
       "Brazil          159\n",
       "USA             196\n",
       " Netherlands    216\n",
       "Name: Goals, dtype: int64"
      ]
     },
     "execution_count": 6,
     "metadata": {},
     "output_type": "execute_result"
    }
   ],
   "source": [
    "total_goal_2020 = groupby_country_2020.groupby('Country')['Goals'].sum().sort_values()\n",
    "total_goal_2020\n"
   ]
  },
  {
   "cell_type": "code",
   "execution_count": 7,
   "metadata": {
    "execution": {
     "iopub.execute_input": "2020-12-08T04:18:24.291554Z",
     "iopub.status.busy": "2020-12-08T04:18:24.290838Z",
     "iopub.status.idle": "2020-12-08T04:18:24.295114Z",
     "shell.execute_reply": "2020-12-08T04:18:24.295625Z"
    },
    "papermill": {
     "duration": 0.03323,
     "end_time": "2020-12-08T04:18:24.295799",
     "exception": false,
     "start_time": "2020-12-08T04:18:24.262569",
     "status": "completed"
    },
    "tags": []
   },
   "outputs": [
    {
     "data": {
      "text/plain": [
       "Country\n",
       "Spain            365\n",
       "Germany          390\n",
       "Italy            436\n",
       "France           472\n",
       "England          490\n",
       "Brazil           823\n",
       "USA              982\n",
       " Netherlands    1146\n",
       "Name: Shots, dtype: int64"
      ]
     },
     "execution_count": 7,
     "metadata": {},
     "output_type": "execute_result"
    }
   ],
   "source": [
    "total_shot_2020 = groupby_country_2020.groupby('Country')['Shots'].sum().sort_values()\n",
    "total_shot_2020"
   ]
  },
  {
   "cell_type": "code",
   "execution_count": 8,
   "metadata": {
    "execution": {
     "iopub.execute_input": "2020-12-08T04:18:24.412838Z",
     "iopub.status.busy": "2020-12-08T04:18:24.341629Z",
     "iopub.status.idle": "2020-12-08T04:18:24.613853Z",
     "shell.execute_reply": "2020-12-08T04:18:24.613236Z"
    },
    "papermill": {
     "duration": 0.298422,
     "end_time": "2020-12-08T04:18:24.614007",
     "exception": false,
     "start_time": "2020-12-08T04:18:24.315585",
     "status": "completed"
    },
    "tags": []
   },
   "outputs": [
    {
     "data": {
      "image/png": "[encoded data removed]",
      "text/plain": [
       "<Figure size 432x288 with 1 Axes>"
      ]
     },
     "metadata": {
      "needs_background": "light"
     },
     "output_type": "display_data"
    }
   ],
   "source": [
    "plt.scatter(total_goal_2020,total_shot_2020,s=100,c='red',edgecolor='black',linewidth=1,alpha=0.5)\n",
    "plt.style.use('seaborn')\n",
    "plt.xlabel('Goals')\n",
    "plt.ylabel('Shots')\n",
    "plt.title('Correlation between amount of Shots and Goals')\n",
    "plt.show()"
   ]
  },
  {
   "cell_type": "markdown",
   "metadata": {
    "papermill": {
     "duration": 0.020545,
     "end_time": "2020-12-08T04:18:24.655582",
     "exception": false,
     "start_time": "2020-12-08T04:18:24.635037",
     "status": "completed"
    },
    "tags": []
   },
   "source": [
    "We see having more shots having more goals to get.Next i wanna see which player have the most goaled in 2020"
   ]
  },
  {
   "cell_type": "code",
   "execution_count": 9,
   "metadata": {
    "execution": {
     "iopub.execute_input": "2020-12-08T04:18:24.707296Z",
     "iopub.status.busy": "2020-12-08T04:18:24.703206Z",
     "iopub.status.idle": "2020-12-08T04:18:24.711383Z",
     "shell.execute_reply": "2020-12-08T04:18:24.711936Z"
    },
    "papermill": {
     "duration": 0.035592,
     "end_time": "2020-12-08T04:18:24.712092",
     "exception": false,
     "start_time": "2020-12-08T04:18:24.676500",
     "status": "completed"
    },
    "tags": []
   },
   "outputs": [
    {
     "data": {
      "text/plain": [
       "Player Names\n",
       "Thiago Galhardo    15\n",
       "Cyriel Dessers     15\n",
       "Steven Berghuis    15\n",
       "Raul Ruidiaz       14\n",
       "Myron Boadu        14\n",
       "Name: Goals, dtype: int64"
      ]
     },
     "execution_count": 9,
     "metadata": {},
     "output_type": "execute_result"
    }
   ],
   "source": [
    "most_goaler_player = groupby_country_2020.groupby('Player Names')['Goals'].sum().sort_values(ascending=False)\n",
    "most_goaler_player = most_goaler_player[:5]\n",
    "most_goaler_player"
   ]
  },
  {
   "cell_type": "code",
   "execution_count": 10,
   "metadata": {
    "execution": {
     "iopub.execute_input": "2020-12-08T04:18:24.767963Z",
     "iopub.status.busy": "2020-12-08T04:18:24.767114Z",
     "iopub.status.idle": "2020-12-08T04:18:24.920039Z",
     "shell.execute_reply": "2020-12-08T04:18:24.919364Z"
    },
    "papermill": {
     "duration": 0.18668,
     "end_time": "2020-12-08T04:18:24.920165",
     "exception": false,
     "start_time": "2020-12-08T04:18:24.733485",
     "status": "completed"
    },
    "tags": []
   },
   "outputs": [
    {
     "data": {
      "text/plain": [
       "Text(0.5, 1.0, 'Player Chart')"
      ]
     },
     "execution_count": 10,
     "metadata": {},
     "output_type": "execute_result"
    },
    {
     "data": {
      "image/png": "[encoded data removed]",
      "text/plain": [
       "<Figure size 576x396 with 1 Axes>"
      ]
     },
     "metadata": {},
     "output_type": "display_data"
    }
   ],
   "source": [
    "label2 = list(most_goaler_player.index.values)\n",
    "f, ax = plt.subplots()\n",
    "ax.bar(label2,most_goaler_player,color='red', alpha=1)\n",
    "ax.set(xlabel='Player Name',\n",
    "      ylabel='Total Goal')\n",
    "plt.title('Player Chart')"
   ]
  },
  {
   "cell_type": "markdown",
   "metadata": {
    "papermill": {
     "duration": 0.022888,
     "end_time": "2020-12-08T04:18:24.966369",
     "exception": false,
     "start_time": "2020-12-08T04:18:24.943481",
     "status": "completed"
    },
    "tags": []
   },
   "source": [
    "I wanna see A few country total goals since 2016 until 2020.Using groupby to take the dataframe and only take Germany,Italy and Spain"
   ]
  },
  {
   "cell_type": "code",
   "execution_count": 11,
   "metadata": {
    "execution": {
     "iopub.execute_input": "2020-12-08T04:18:25.020734Z",
     "iopub.status.busy": "2020-12-08T04:18:25.019548Z",
     "iopub.status.idle": "2020-12-08T04:18:25.027499Z",
     "shell.execute_reply": "2020-12-08T04:18:25.026779Z"
    },
    "papermill": {
     "duration": 0.038005,
     "end_time": "2020-12-08T04:18:25.027628",
     "exception": false,
     "start_time": "2020-12-08T04:18:24.989623",
     "status": "completed"
    },
    "tags": []
   },
   "outputs": [],
   "source": [
    "goaled_by_country_and_year = df.groupby(['Country','Year'])['Goals'].sum()\n",
    "total_goal_germany= goaled_by_country_and_year.loc['Germany']\n",
    "total_goal_italy = goaled_by_country_and_year.loc['Italy']\n",
    "total_goal_spain = goaled_by_country_and_year.loc['Spain']\n"
   ]
  },
  {
   "cell_type": "code",
   "execution_count": 12,
   "metadata": {
    "execution": {
     "iopub.execute_input": "2020-12-08T04:18:25.088450Z",
     "iopub.status.busy": "2020-12-08T04:18:25.087647Z",
     "iopub.status.idle": "2020-12-08T04:18:25.250171Z",
     "shell.execute_reply": "2020-12-08T04:18:25.249421Z"
    },
    "papermill": {
     "duration": 0.199263,
     "end_time": "2020-12-08T04:18:25.250293",
     "exception": false,
     "start_time": "2020-12-08T04:18:25.051030",
     "status": "completed"
    },
    "tags": []
   },
   "outputs": [
    {
     "data": {
      "image/png": "[encoded data removed]",
      "text/plain": [
       "<Figure size 576x396 with 1 Axes>"
      ]
     },
     "metadata": {},
     "output_type": "display_data"
    }
   ],
   "source": [
    "fig, ax = plt.subplots()\n",
    "plt.plot(total_goal_germany, 'ro-', label='Germany')\n",
    "plt.plot(total_goal_italy, 'go-', label='Italy')\n",
    "plt.plot(total_goal_spain, 'bo-', label='Spain')\n",
    "ax.set(xlabel='Year',\n",
    "       ylabel='Total Goal',\n",
    "       title='Comparison Goal 2016-2020')\n",
    "ax.locator_params(integer=True)\n",
    "ax.grid()\n",
    "plt.show()"
   ]
  },
  {
   "cell_type": "markdown",
   "metadata": {
    "papermill": {
     "duration": 0.024443,
     "end_time": "2020-12-08T04:18:25.299734",
     "exception": false,
     "start_time": "2020-12-08T04:18:25.275291",
     "status": "completed"
    },
    "tags": []
   },
   "source": [
    "Is it having more played games and resulting more goals created,we can use scatter to distribute the variabel"
   ]
  },
  {
   "cell_type": "code",
   "execution_count": 13,
   "metadata": {
    "execution": {
     "iopub.execute_input": "2020-12-08T04:18:25.359242Z",
     "iopub.status.busy": "2020-12-08T04:18:25.356987Z",
     "iopub.status.idle": "2020-12-08T04:18:25.362361Z",
     "shell.execute_reply": "2020-12-08T04:18:25.361715Z"
    },
    "papermill": {
     "duration": 0.037988,
     "end_time": "2020-12-08T04:18:25.362484",
     "exception": false,
     "start_time": "2020-12-08T04:18:25.324496",
     "status": "completed"
    },
    "tags": []
   },
   "outputs": [],
   "source": [
    "total_goal_percountry_and_year = df.groupby(['Country','Year'])['Matches_Played'].sum()\n",
    "total_match_england = total_goal_percountry_and_year.loc['England']\n",
    "total_goal_england = goaled_by_country_and_year.loc['England']"
   ]
  },
  {
   "cell_type": "code",
   "execution_count": 14,
   "metadata": {
    "execution": {
     "iopub.execute_input": "2020-12-08T04:18:25.427229Z",
     "iopub.status.busy": "2020-12-08T04:18:25.426126Z",
     "iopub.status.idle": "2020-12-08T04:18:25.711839Z",
     "shell.execute_reply": "2020-12-08T04:18:25.711188Z"
    },
    "papermill": {
     "duration": 0.324671,
     "end_time": "2020-12-08T04:18:25.711961",
     "exception": false,
     "start_time": "2020-12-08T04:18:25.387290",
     "status": "completed"
    },
    "tags": []
   },
   "outputs": [
    {
     "data": {
      "image/png": "[encoded data removed]",
      "text/plain": [
       "<Figure size 576x396 with 2 Axes>"
      ]
     },
     "metadata": {},
     "output_type": "display_data"
    }
   ],
   "source": [
    "label3 = list(total_match_england.index.values)\n",
    "fig, (ax1,ax2) = plt.subplots(2,1)\n",
    "\n",
    "ax1.plot(label3,total_goal_england, 'go-', label='Total Goal')\n",
    "ax1.set_ylabel('Total Goal')\n",
    "\n",
    "ax2.plot(label3,total_match_england, 'yd-', label='Total Match')\n",
    "ax2.set_ylabel('Total Match')\n",
    "\n",
    "ax2.set_xlabel('Year')\n",
    "ax1.locator_params(integer=True)\n",
    "ax2.locator_params(integer=True)\n",
    "fig.legend(loc='upper left')\n",
    "fig.suptitle('England Total Match and Goal')\n",
    "plt.show()\n"
   ]
  },
  {
   "cell_type": "markdown",
   "metadata": {
    "papermill": {
     "duration": 0.026026,
     "end_time": "2020-12-08T04:18:25.764500",
     "exception": false,
     "start_time": "2020-12-08T04:18:25.738474",
     "status": "completed"
    },
    "tags": []
   },
   "source": [
    "Please upvote if you think this helpful"
   ]
  },
  {
   "cell_type": "code",
   "execution_count": null,
   "metadata": {
    "papermill": {
     "duration": 0.026221,
     "end_time": "2020-12-08T04:18:25.817294",
     "exception": false,
     "start_time": "2020-12-08T04:18:25.791073",
     "status": "completed"
    },
    "tags": []
   },
   "outputs": [],
   "source": []
  }
 ],
 "metadata": {
  "kernelspec": {
   "display_name": "Python 3",
   "language": "python",
   "name": "python3"
  },
  "language_info": {
   "codemirror_mode": {
    "name": "ipython",
    "version": 3
   },
   "file_extension": ".py",
   "mimetype": "text/x-python",
   "name": "python",
   "nbconvert_exporter": "python",
   "pygments_lexer": "ipython3",
   "version": "3.7.6"
  },
  "papermill": {
   "duration": 6.988256,
   "end_time": "2020-12-08T04:18:25.952146",
   "environment_variables": {},
   "exception": null,
   "input_path": "__notebook__.ipynb",
   "output_path": "__notebook__.ipynb",
   "parameters": {},
   "start_time": "2020-12-08T04:18:18.963890",
   "version": "2.1.0"
  }
 },
 "nbformat": 4,
 "nbformat_minor": 4
}
